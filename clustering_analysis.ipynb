{
 "cells": [
  {
   "cell_type": "code",
   "execution_count": 14,
   "metadata": {
    "collapsed": true,
    "ExecuteTime": {
     "start_time": "2023-06-28T14:48:43.755764Z",
     "end_time": "2023-06-28T14:48:43.787418Z"
    }
   },
   "outputs": [],
   "source": [
    "#encoding: utf-8\n",
    "import numpy as np\n",
    "import pandas as pd\n",
    "import matplotlib.pyplot as plt\n",
    "import seaborn as sns\n",
    "sns.set_style(\"whitegrid\")\n",
    "%matplotlib inline"
   ]
  },
  {
   "cell_type": "code",
   "execution_count": 15,
   "outputs": [
    {
     "name": "stdout",
     "output_type": "stream",
     "text": [
      "<class 'pandas.core.frame.DataFrame'>\n",
      "           IMEI        日期           APP名称                使用时间  使用时长  \\\n",
      "0  8633****5756  20180901           搜狗输入法 2018-09-01 00:01:00     4   \n",
      "1  8660****9090  20180901  GnssPowerSaver 2018-09-01 00:01:00     5   \n",
      "2  A000****6B5D  20180901            塔读文学 2018-09-01 00:00:00     9   \n",
      "3  A000****6B5D  20180901          华为应用市场 2018-09-01 00:01:00     2   \n",
      "4  A000****6B5D  20180901            搜狐视频 2018-09-01 00:01:00    10   \n",
      "5  A100****9464  20180901            手机管家 2018-09-01 00:03:00     2   \n",
      "6  8642****0853  20180901           章鱼输入法 2018-09-01 00:03:00     4   \n",
      "7  A000****B5DE  20180901           电信营业厅 2018-09-01 00:03:00     2   \n",
      "8  9900****7669  20180901            系统桌面 2018-09-01 00:04:00    11   \n",
      "9  A100****1FA9  20180901              任务 2018-09-01 00:00:00   148   \n",
      "\n",
      "        使用流量  GPS经度  GPS纬度   省   市             手机型号 注册省 注册市  \n",
      "0        NaN    NaN    NaN  上海  上海         OPPO R9s  上海  上海  \n",
      "1        NaN    NaN    NaN  上海  上海        OPPO A37m  上海  上海  \n",
      "2        NaN    NaN    NaN  上海  上海  HUAWEI TIT-AL00  上海  上海  \n",
      "3        NaN    NaN    NaN  上海  上海  HUAWEI TIT-AL00  上海  上海  \n",
      "4        NaN    NaN    NaN  上海  上海  HUAWEI TIT-AL00  上海  上海  \n",
      "5        NaN    NaN    NaN  上海  上海        OPPO R7sm  上海  上海  \n",
      "6    11089.0    NaN    NaN  上海  上海        OPPO R9sk  上海  上海  \n",
      "7  1756732.0    NaN    NaN  上海  上海         NCE-AL00  上海  上海  \n",
      "8        NaN    NaN    NaN  上海  上海          Redmi 3  上海  上海  \n",
      "9        NaN    NaN    NaN  上海  上海         HTC M8Sd  上海  上海   \n",
      " df1 first 10 elements\n"
     ]
    },
    {
     "data": {
      "text/plain": "                 日期                           使用时间          使用时长  \\\ncount  4.229315e+06                        4229315  4.229315e+06   \nmean   2.018091e+07  2018-09-14 03:11:14.725573632  5.165055e+02   \nmin    2.018090e+07            2018-09-01 00:00:00  1.000000e+00   \n25%    2.018091e+07            2018-09-06 22:24:02  3.000000e+00   \n50%    2.018091e+07            2018-09-13 13:44:19  1.100000e+01   \n75%    2.018092e+07     2018-09-20 16:53:53.500000  6.400000e+01   \nmax    2.018093e+07            2018-09-30 23:59:49  1.771110e+06   \nstd    8.153471e+00                            NaN  4.360917e+03   \n\n               使用流量        GPS经度        GPS纬度  \ncount  9.539850e+05  4384.000000  4384.000000  \nmean   4.693946e+06   121.412267    31.214000  \nmin    0.000000e+00   120.429175    30.658342  \n25%    2.236500e+04   121.300736    31.135859  \n50%    1.508650e+05   121.423319    31.219134  \n75%    6.781800e+05   121.507124    31.287088  \nmax    2.502329e+10   122.020567    31.890294  \nstd    6.026038e+07     0.167781     0.159696  ",
      "text/html": "<div>\n<style scoped>\n    .dataframe tbody tr th:only-of-type {\n        vertical-align: middle;\n    }\n\n    .dataframe tbody tr th {\n        vertical-align: top;\n    }\n\n    .dataframe thead th {\n        text-align: right;\n    }\n</style>\n<table border=\"1\" class=\"dataframe\">\n  <thead>\n    <tr style=\"text-align: right;\">\n      <th></th>\n      <th>日期</th>\n      <th>使用时间</th>\n      <th>使用时长</th>\n      <th>使用流量</th>\n      <th>GPS经度</th>\n      <th>GPS纬度</th>\n    </tr>\n  </thead>\n  <tbody>\n    <tr>\n      <th>count</th>\n      <td>4.229315e+06</td>\n      <td>4229315</td>\n      <td>4.229315e+06</td>\n      <td>9.539850e+05</td>\n      <td>4384.000000</td>\n      <td>4384.000000</td>\n    </tr>\n    <tr>\n      <th>mean</th>\n      <td>2.018091e+07</td>\n      <td>2018-09-14 03:11:14.725573632</td>\n      <td>5.165055e+02</td>\n      <td>4.693946e+06</td>\n      <td>121.412267</td>\n      <td>31.214000</td>\n    </tr>\n    <tr>\n      <th>min</th>\n      <td>2.018090e+07</td>\n      <td>2018-09-01 00:00:00</td>\n      <td>1.000000e+00</td>\n      <td>0.000000e+00</td>\n      <td>120.429175</td>\n      <td>30.658342</td>\n    </tr>\n    <tr>\n      <th>25%</th>\n      <td>2.018091e+07</td>\n      <td>2018-09-06 22:24:02</td>\n      <td>3.000000e+00</td>\n      <td>2.236500e+04</td>\n      <td>121.300736</td>\n      <td>31.135859</td>\n    </tr>\n    <tr>\n      <th>50%</th>\n      <td>2.018091e+07</td>\n      <td>2018-09-13 13:44:19</td>\n      <td>1.100000e+01</td>\n      <td>1.508650e+05</td>\n      <td>121.423319</td>\n      <td>31.219134</td>\n    </tr>\n    <tr>\n      <th>75%</th>\n      <td>2.018092e+07</td>\n      <td>2018-09-20 16:53:53.500000</td>\n      <td>6.400000e+01</td>\n      <td>6.781800e+05</td>\n      <td>121.507124</td>\n      <td>31.287088</td>\n    </tr>\n    <tr>\n      <th>max</th>\n      <td>2.018093e+07</td>\n      <td>2018-09-30 23:59:49</td>\n      <td>1.771110e+06</td>\n      <td>2.502329e+10</td>\n      <td>122.020567</td>\n      <td>31.890294</td>\n    </tr>\n    <tr>\n      <th>std</th>\n      <td>8.153471e+00</td>\n      <td>NaN</td>\n      <td>4.360917e+03</td>\n      <td>6.026038e+07</td>\n      <td>0.167781</td>\n      <td>0.159696</td>\n    </tr>\n  </tbody>\n</table>\n</div>"
     },
     "execution_count": 15,
     "metadata": {},
     "output_type": "execute_result"
    }
   ],
   "source": [
    "# df1~ is DataFrame datatype\n",
    "df1 = pd.read_csv('data/user_behaviour_201809_01.csv', sep=',', header=0, parse_dates=[\"使用时间\"], encoding='gb2312')\n",
    "df2 = pd.read_csv('data/user_behaviour_201809_02.csv', sep=',', header=0, parse_dates=[\"使用时间\"], encoding='gb2312')\n",
    "df3 = pd.read_csv('data/user_behaviour_201809_03.csv', sep=',', header=0, parse_dates=[\"使用时间\"], encoding='gb2312')\n",
    "df4 = pd.read_csv('data/user_behaviour_201809_04.csv', sep=',', header=0, parse_dates=[\"使用时间\"], encoding='gb2312')\n",
    "df5 = pd.read_csv('data/user_behaviour_201809_05.csv', sep=',', header=0, parse_dates=[\"使用时间\"], encoding='gb2312')\n",
    "df6 = pd.read_csv('data/user_behaviour_201809_06.csv', sep=',', header=0, parse_dates=[\"使用时间\"], encoding='gb2312')\n",
    "df7 = pd.read_csv('data/user_behaviour_201809_07.csv', sep=',', header=0, parse_dates=[\"使用时间\"], encoding='gb2312')\n",
    "# df8 = pd.read_csv('data/user_behaviour_201810_01.csv', sep=',', header=0, parse_dates=[\"使用时间\"], encoding='gb2312')\n",
    "# df9 = pd.read_csv('data/user_behaviour_201810_02.csv', sep=',', header=0, parse_dates=[\"使用时间\"], encoding='gb2312')\n",
    "print(type(df1))\n",
    "print(df1.head(10),'\\n', 'df1 first 10 elements')\n",
    "frames = [df1, df2, df3, df4, df5, df6, df7]\n",
    "data = pd.concat(frames)\n",
    "# concat是对几个数据集的拼接\n",
    "# overall_information，count，mean，std，min，max\n",
    "data.describe()\n",
    "# data.shape"
   ],
   "metadata": {
    "collapsed": false,
    "ExecuteTime": {
     "start_time": "2023-06-28T14:48:43.771468Z",
     "end_time": "2023-06-28T14:48:57.684947Z"
    }
   }
  },
  {
   "cell_type": "code",
   "execution_count": 16,
   "outputs": [],
   "source": [
    "def preprocess(cdr, GPS=False):\n",
    "    if not GPS:\n",
    "        columns_to_drop = ['GPS经度', 'GPS纬度', '省', '市']\n",
    "        cdr.drop(columns_to_drop, axis=1, inplace=True)\n",
    "        cdr = cdr[['IMEI',\"日期\",'使用时间','使用流量',\"APP名称\",\"使用时长\"]]\n",
    "    else:\n",
    "        cdr = cdr[['IMEI',\"日期\",'使用时间','使用流量',\"APP名称\",\"GPS经度\",\"GPS纬度\"]]\n",
    "        cdr = cdr.rename(columns={\"GPS经度\": \"longitude\", \"GPS纬度\": \"latitude\"})\n",
    "    cdr['使用时间'] = pd.to_datetime(cdr['使用时间'])\n",
    "# to_datetime转换日期时间表达格式\n",
    "    cdr = cdr.rename(columns={\"日期\":'date',\"使用时间\": \"ds\", \"使用流量\": \"y\",\"APP名称\":\"APP\",\"使用时长\":\"time\"})\n",
    "    return cdr\n",
    "\n",
    "def feature_extraction(traffic,t_index):\n",
    "    traffic_resampled = traffic.groupby(['IMEI']).apply(lambda x: x.resample('1h', on='ds').sum().reindex(t_index).fillna(0))\n",
    "    traffic_resampled.reset_index(inplace=True)\n",
    "    traffic_resampled = traffic_resampled.rename(columns={\"level_1\": \"ds\"})\n",
    "    traffic_resampled = traffic_resampled.set_index(['IMEI', 'ds'])\n",
    "    traffic_resampled = traffic_resampled.unstack(level=-1)\n",
    "    return traffic_resampled"
   ],
   "metadata": {
    "collapsed": false,
    "ExecuteTime": {
     "start_time": "2023-06-28T14:48:57.669214Z",
     "end_time": "2023-06-28T14:48:57.684947Z"
    }
   }
  },
  {
   "cell_type": "code",
   "execution_count": 17,
   "outputs": [
    {
     "name": "stderr",
     "output_type": "stream",
     "text": [
      "C:\\Users\\Chenting Zhang\\AppData\\Local\\Temp\\ipykernel_28268\\1544606722.py:9: SettingWithCopyWarning: \n",
      "A value is trying to be set on a copy of a slice from a DataFrame.\n",
      "Try using .loc[row_indexer,col_indexer] = value instead\n",
      "\n",
      "See the caveats in the documentation: https://pandas.pydata.org/pandas-docs/stable/user_guide/indexing.html#returning-a-view-versus-a-copy\n",
      "  cdr['使用时间'] = pd.to_datetime(cdr['使用时间'])\n"
     ]
    }
   ],
   "source": [
    "# cdr = preprocess(octe)\n",
    "cdr = preprocess(data)\n",
    "cdr = cdr.fillna(0)\n",
    "# 空数据赋0\n",
    "cdr.y = np.log10(cdr.y+1)\n",
    "# 对流量数据取对数运算"
   ],
   "metadata": {
    "collapsed": false,
    "ExecuteTime": {
     "start_time": "2023-06-28T14:48:57.684947Z",
     "end_time": "2023-06-28T14:48:59.985849Z"
    }
   }
  },
  {
   "cell_type": "markdown",
   "source": [
    "## Feature extraction"
   ],
   "metadata": {
    "collapsed": false
   }
  },
  {
   "cell_type": "code",
   "execution_count": 19,
   "outputs": [
    {
     "name": "stdout",
     "output_type": "stream",
     "text": [
      "                IMEI                  ds    y\n",
      "0       8633****5756 2018-09-01 00:01:00  0.0\n",
      "1       8660****9090 2018-09-01 00:01:00  0.0\n",
      "2       A000****6B5D 2018-09-01 00:00:00  0.0\n",
      "3       A000****6B5D 2018-09-01 00:01:00  0.0\n",
      "4       A000****6B5D 2018-09-01 00:01:00  0.0\n",
      "...              ...                 ...  ...\n",
      "509001  A000****3FED 2018-09-30 20:59:44  0.0\n",
      "509002  A000****3FED 2018-09-30 22:31:13  0.0\n",
      "509003  A000****3FED 2018-09-30 23:24:34  0.0\n",
      "509004  A000****3FED 2018-09-30 23:33:51  0.0\n",
      "509005  A100****5DF2 2018-09-30 21:07:30  0.0\n",
      "\n",
      "[4229315 rows x 3 columns]\n"
     ]
    }
   ],
   "source": [
    "traffic = cdr[['IMEI','ds','y']]\n",
    "# 取'IMEI','ds','y'三列数据\n",
    "print(traffic)\n",
    "# 运行时间：5min以内"
   ],
   "metadata": {
    "collapsed": false,
    "ExecuteTime": {
     "start_time": "2023-06-28T14:59:43.592718Z",
     "end_time": "2023-06-28T14:59:43.750179Z"
    }
   }
  },
  {
   "cell_type": "code",
   "execution_count": 21,
   "outputs": [
    {
     "name": "stdout",
     "output_type": "stream",
     "text": [
      "DatetimeIndex(['2018-09-01 00:00:00', '2018-09-01 01:00:00',\n",
      "               '2018-09-01 02:00:00', '2018-09-01 03:00:00',\n",
      "               '2018-09-01 04:00:00', '2018-09-01 05:00:00',\n",
      "               '2018-09-01 06:00:00', '2018-09-01 07:00:00',\n",
      "               '2018-09-01 08:00:00', '2018-09-01 09:00:00',\n",
      "               ...\n",
      "               '2018-09-30 14:00:00', '2018-09-30 15:00:00',\n",
      "               '2018-09-30 16:00:00', '2018-09-30 17:00:00',\n",
      "               '2018-09-30 18:00:00', '2018-09-30 19:00:00',\n",
      "               '2018-09-30 20:00:00', '2018-09-30 21:00:00',\n",
      "               '2018-09-30 22:00:00', '2018-09-30 23:00:00'],\n",
      "              dtype='datetime64[ns]', length=720, freq='H')\n"
     ]
    }
   ],
   "source": [
    "t_index = pd.date_range(start='2018-09-01', end='2018-09-30 23:00:00', freq='1h')\n",
    "print(t_index)\n",
    "# date_range用于生成一个固定频率的时间索引\n",
    "#t_index = pd.date_range(start='2018-10-01', end='2018-10-31 23:00:00', freq='1h')"
   ],
   "metadata": {
    "collapsed": false,
    "ExecuteTime": {
     "start_time": "2023-06-28T15:00:18.199161Z",
     "end_time": "2023-06-28T15:00:18.246537Z"
    }
   }
  },
  {
   "cell_type": "code",
   "execution_count": 22,
   "outputs": [
    {
     "name": "stdout",
     "output_type": "stream",
     "text": [
      "                                          IMEI         y\n",
      "IMEI                                                    \n",
      "0000****0000 2018-09-01 00:00:00  0000****0000  5.575131\n",
      "             2018-09-01 01:00:00             0  0.000000\n",
      "             2018-09-01 02:00:00             0  0.000000\n",
      "             2018-09-01 03:00:00             0  0.000000\n",
      "             2018-09-01 04:00:00             0  0.000000\n",
      "...                                        ...       ...\n",
      "a100****f758 2018-09-30 19:00:00             0  0.000000\n",
      "             2018-09-30 20:00:00             0  0.000000\n",
      "             2018-09-30 21:00:00             0  0.000000\n",
      "             2018-09-30 22:00:00             0  0.000000\n",
      "             2018-09-30 23:00:00             0  0.000000\n",
      "\n",
      "[49428000 rows x 2 columns]\n"
     ]
    }
   ],
   "source": [
    "traffic_resampled = traffic.groupby(['IMEI']).apply(lambda x: x.resample('1h', on='ds').sum().reindex(t_index).fillna(0))\n",
    "print(traffic_resampled)"
   ],
   "metadata": {
    "collapsed": false,
    "ExecuteTime": {
     "start_time": "2023-06-28T15:00:57.434456Z",
     "end_time": "2023-06-28T15:03:27.664849Z"
    }
   }
  },
  {
   "cell_type": "code",
   "execution_count": null,
   "outputs": [],
   "source": [
    "traffic_resampled.reset_index(inplace=True)"
   ],
   "metadata": {
    "collapsed": false
   }
  },
  {
   "cell_type": "code",
   "execution_count": null,
   "outputs": [],
   "source": [
    "traffic_resampled = traffic_resampled.rename(columns={\"level_1\": \"ds\"})"
   ],
   "metadata": {
    "collapsed": false
   }
  },
  {
   "cell_type": "code",
   "execution_count": null,
   "outputs": [],
   "source": [],
   "metadata": {
    "collapsed": false
   }
  },
  {
   "cell_type": "code",
   "execution_count": null,
   "outputs": [],
   "source": [],
   "metadata": {
    "collapsed": false
   }
  },
  {
   "cell_type": "code",
   "execution_count": null,
   "outputs": [],
   "source": [
    "traffic_resampled_coor = traffic_resampled.set_index(['IMEI', 'ds'])\n",
    "# 设置两个索引值，将原始表格数据形成多层索引\n",
    "traffic_resampled_coor = traffic_resampled_coor.unstack(level=-1)\n",
    "# unstack()即stack()的反操作，将行旋转到列，即把竖向排列的数据横过来，参数是层级序号"
   ],
   "metadata": {
    "collapsed": false
   }
  },
  {
   "cell_type": "code",
   "execution_count": null,
   "outputs": [],
   "source": [
    "exe = traffic_resampled_coor.iloc[:,0:24]\n",
    "# iloc[a,b]表示取第a行第b列的数据"
   ],
   "metadata": {
    "collapsed": false
   }
  },
  {
   "cell_type": "code",
   "execution_count": null,
   "outputs": [],
   "source": [
    "sns.set(rc={'figure.figsize':(15,8.75)})\n",
    "#sns.heatmap(X.corr(), annot=True);\n",
    "fig = plt.figure()\n",
    "ax = fig.add_subplot(111)\n",
    "# 创建子图，参数三个数表示共有1*1个子图，这是第1个\n",
    "cax = ax.matshow(exe.corr(), interpolation='nearest')\n",
    "# matshow()表示绘制矩阵，根据颜色表示矩阵中数值大小\n",
    "# corr表示计算相关系数矩阵\n",
    "fig.colorbar(cax)\n",
    "plt.show();"
   ],
   "metadata": {
    "collapsed": false
   }
  }
 ],
 "metadata": {
  "kernelspec": {
   "display_name": "Python 3",
   "language": "python",
   "name": "python3"
  },
  "language_info": {
   "codemirror_mode": {
    "name": "ipython",
    "version": 2
   },
   "file_extension": ".py",
   "mimetype": "text/x-python",
   "name": "python",
   "nbconvert_exporter": "python",
   "pygments_lexer": "ipython2",
   "version": "2.7.6"
  }
 },
 "nbformat": 4,
 "nbformat_minor": 0
}
